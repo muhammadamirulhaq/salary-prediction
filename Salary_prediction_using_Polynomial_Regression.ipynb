{
  "nbformat": 4,
  "nbformat_minor": 0,
  "metadata": {
    "colab": {
      "provenance": []
    },
    "kernelspec": {
      "name": "python3",
      "display_name": "Python 3"
    },
    "language_info": {
      "name": "python"
    }
  },
  "cells": [
    {
      "cell_type": "markdown",
      "source": [
        "## Salary prediction using Polynomial Regression"
      ],
      "metadata": {
        "id": "I78w-jJrNJZZ"
      }
    },
    {
      "cell_type": "markdown",
      "source": [
        "Read CSV"
      ],
      "metadata": {
        "id": "3PN47jkzKwFk"
      }
    },
    {
      "cell_type": "code",
      "execution_count": null,
      "metadata": {
        "id": "bO6OoWULQCim"
      },
      "outputs": [],
      "source": [
        "import pandas as pd\n",
        "\n",
        "df = pd.read_csv('/content/Data Gaji.csv')"
      ]
    },
    {
      "cell_type": "markdown",
      "source": [
        "Display df"
      ],
      "metadata": {
        "id": "lm78_zEsK1By"
      }
    },
    {
      "cell_type": "code",
      "source": [
        "df.head().style.background_gradient(cmap='pink_r')"
      ],
      "metadata": {
        "colab": {
          "base_uri": "https://localhost:8080/",
          "height": 206
        },
        "id": "XqnmPOxyRBBd",
        "outputId": "573aa956-f759-462d-f123-70aa921a6b73"
      },
      "execution_count": null,
      "outputs": [
        {
          "output_type": "execute_result",
          "data": {
            "text/plain": [
              "<pandas.io.formats.style.Styler at 0x7f49e39ccbb0>"
            ],
            "text/html": [
              "<style type=\"text/css\">\n",
              "#T_fd34d_row0_col0, #T_fd34d_row2_col1 {\n",
              "  background-color: #ffffff;\n",
              "  color: #000000;\n",
              "}\n",
              "#T_fd34d_row0_col1, #T_fd34d_row4_col1 {\n",
              "  background-color: #ececc0;\n",
              "  color: #000000;\n",
              "}\n",
              "#T_fd34d_row1_col0 {\n",
              "  background-color: #e9e9b5;\n",
              "  color: #000000;\n",
              "}\n",
              "#T_fd34d_row1_col1, #T_fd34d_row4_col0 {\n",
              "  background-color: #1e0000;\n",
              "  color: #f1f1f1;\n",
              "}\n",
              "#T_fd34d_row2_col0 {\n",
              "  background-color: #d0ab93;\n",
              "  color: #000000;\n",
              "}\n",
              "#T_fd34d_row3_col0 {\n",
              "  background-color: #a06767;\n",
              "  color: #f1f1f1;\n",
              "}\n",
              "#T_fd34d_row3_col1 {\n",
              "  background-color: #b97878;\n",
              "  color: #f1f1f1;\n",
              "}\n",
              "</style>\n",
              "<table id=\"T_fd34d_\" class=\"dataframe\">\n",
              "  <thead>\n",
              "    <tr>\n",
              "      <th class=\"blank level0\" >&nbsp;</th>\n",
              "      <th class=\"col_heading level0 col0\" >tahun_berkerja</th>\n",
              "      <th class=\"col_heading level0 col1\" >gaji</th>\n",
              "    </tr>\n",
              "  </thead>\n",
              "  <tbody>\n",
              "    <tr>\n",
              "      <th id=\"T_fd34d_level0_row0\" class=\"row_heading level0 row0\" >0</th>\n",
              "      <td id=\"T_fd34d_row0_col0\" class=\"data row0 col0\" >1</td>\n",
              "      <td id=\"T_fd34d_row0_col1\" class=\"data row0 col1\" >3900000</td>\n",
              "    </tr>\n",
              "    <tr>\n",
              "      <th id=\"T_fd34d_level0_row1\" class=\"row_heading level0 row1\" >1</th>\n",
              "      <td id=\"T_fd34d_row1_col0\" class=\"data row1 col0\" >2</td>\n",
              "      <td id=\"T_fd34d_row1_col1\" class=\"data row1 col1\" >4600000</td>\n",
              "    </tr>\n",
              "    <tr>\n",
              "      <th id=\"T_fd34d_level0_row2\" class=\"row_heading level0 row2\" >2</th>\n",
              "      <td id=\"T_fd34d_row2_col0\" class=\"data row2 col0\" >3</td>\n",
              "      <td id=\"T_fd34d_row2_col1\" class=\"data row2 col1\" >3700000</td>\n",
              "    </tr>\n",
              "    <tr>\n",
              "      <th id=\"T_fd34d_level0_row3\" class=\"row_heading level0 row3\" >3</th>\n",
              "      <td id=\"T_fd34d_row3_col0\" class=\"data row3 col0\" >4</td>\n",
              "      <td id=\"T_fd34d_row3_col1\" class=\"data row3 col1\" >4300000</td>\n",
              "    </tr>\n",
              "    <tr>\n",
              "      <th id=\"T_fd34d_level0_row4\" class=\"row_heading level0 row4\" >4</th>\n",
              "      <td id=\"T_fd34d_row4_col0\" class=\"data row4 col0\" >5</td>\n",
              "      <td id=\"T_fd34d_row4_col1\" class=\"data row4 col1\" >3900000</td>\n",
              "    </tr>\n",
              "  </tbody>\n",
              "</table>\n"
            ]
          },
          "metadata": {},
          "execution_count": 25
        }
      ]
    },
    {
      "cell_type": "markdown",
      "source": [
        "Display df info"
      ],
      "metadata": {
        "id": "6YMFa8jRK49S"
      }
    },
    {
      "cell_type": "code",
      "source": [
        "df.info()"
      ],
      "metadata": {
        "colab": {
          "base_uri": "https://localhost:8080/"
        },
        "id": "zORGSSl5aXiU",
        "outputId": "6654df53-fe7f-45ea-b92a-80be4bd68782"
      },
      "execution_count": null,
      "outputs": [
        {
          "output_type": "stream",
          "name": "stdout",
          "text": [
            "<class 'pandas.core.frame.DataFrame'>\n",
            "RangeIndex: 20 entries, 0 to 19\n",
            "Data columns (total 2 columns):\n",
            " #   Column          Non-Null Count  Dtype\n",
            "---  ------          --------------  -----\n",
            " 0   tahun_berkerja  20 non-null     int64\n",
            " 1   gaji            20 non-null     int64\n",
            "dtypes: int64(2)\n",
            "memory usage: 448.0 bytes\n"
          ]
        }
      ]
    },
    {
      "cell_type": "markdown",
      "source": [
        "Correlation analysis"
      ],
      "metadata": {
        "id": "aqLh1xFRK8vC"
      }
    },
    {
      "cell_type": "code",
      "source": [
        "df.corr(method='pearson').style.background_gradient(cmap='pink_r')"
      ],
      "metadata": {
        "colab": {
          "base_uri": "https://localhost:8080/",
          "height": 112
        },
        "id": "FG8vWJmuQ68r",
        "outputId": "5225409a-3aaf-42fc-8b95-c8cf8e5f01b5"
      },
      "execution_count": null,
      "outputs": [
        {
          "output_type": "execute_result",
          "data": {
            "text/plain": [
              "<pandas.io.formats.style.Styler at 0x7f49e40aab50>"
            ],
            "text/html": [
              "<style type=\"text/css\">\n",
              "#T_cf823_row0_col0, #T_cf823_row1_col1 {\n",
              "  background-color: #1e0000;\n",
              "  color: #f1f1f1;\n",
              "}\n",
              "#T_cf823_row0_col1, #T_cf823_row1_col0 {\n",
              "  background-color: #ffffff;\n",
              "  color: #000000;\n",
              "}\n",
              "</style>\n",
              "<table id=\"T_cf823_\" class=\"dataframe\">\n",
              "  <thead>\n",
              "    <tr>\n",
              "      <th class=\"blank level0\" >&nbsp;</th>\n",
              "      <th class=\"col_heading level0 col0\" >tahun_berkerja</th>\n",
              "      <th class=\"col_heading level0 col1\" >gaji</th>\n",
              "    </tr>\n",
              "  </thead>\n",
              "  <tbody>\n",
              "    <tr>\n",
              "      <th id=\"T_cf823_level0_row0\" class=\"row_heading level0 row0\" >tahun_berkerja</th>\n",
              "      <td id=\"T_cf823_row0_col0\" class=\"data row0 col0\" >1.000000</td>\n",
              "      <td id=\"T_cf823_row0_col1\" class=\"data row0 col1\" >0.882109</td>\n",
              "    </tr>\n",
              "    <tr>\n",
              "      <th id=\"T_cf823_level0_row1\" class=\"row_heading level0 row1\" >gaji</th>\n",
              "      <td id=\"T_cf823_row1_col0\" class=\"data row1 col0\" >0.882109</td>\n",
              "      <td id=\"T_cf823_row1_col1\" class=\"data row1 col1\" >1.000000</td>\n",
              "    </tr>\n",
              "  </tbody>\n",
              "</table>\n"
            ]
          },
          "metadata": {},
          "execution_count": 4
        }
      ]
    },
    {
      "cell_type": "markdown",
      "source": [
        "Sum null value"
      ],
      "metadata": {
        "id": "Gjcmo3eTLBh6"
      }
    },
    {
      "cell_type": "code",
      "source": [
        "df.isna().sum()"
      ],
      "metadata": {
        "colab": {
          "base_uri": "https://localhost:8080/"
        },
        "id": "CbgPceAfTaDG",
        "outputId": "21762fe1-0b61-4e4a-f242-70492aa3ee73"
      },
      "execution_count": null,
      "outputs": [
        {
          "output_type": "execute_result",
          "data": {
            "text/plain": [
              "tahun_berkerja    0\n",
              "gaji              0\n",
              "dtype: int64"
            ]
          },
          "metadata": {},
          "execution_count": 5
        }
      ]
    },
    {
      "cell_type": "markdown",
      "source": [
        "Separate x and y"
      ],
      "metadata": {
        "id": "gly0jh-sLGEh"
      }
    },
    {
      "cell_type": "code",
      "source": [
        "import numpy as np\n",
        "\n",
        "X = np.array(df['tahun_berkerja'])\n",
        "y = np.array(df['gaji'])"
      ],
      "metadata": {
        "id": "WOtunMGQRpU-"
      },
      "execution_count": null,
      "outputs": []
    },
    {
      "cell_type": "markdown",
      "source": [
        "Split train and test to 70 and 30"
      ],
      "metadata": {
        "id": "_Rxj2v7lLKC9"
      }
    },
    {
      "cell_type": "code",
      "source": [
        "p70 = round((len(X))*(70/100))\n",
        "p70\n",
        "\n",
        "train_x = X[:p70]\n",
        "train_y = y[:p70]\n",
        "\n",
        "test_x = X[p70:]\n",
        "test_y = y[p70:] "
      ],
      "metadata": {
        "id": "Gg_6AvRDK-U5"
      },
      "execution_count": null,
      "outputs": []
    },
    {
      "cell_type": "markdown",
      "source": [
        "Plot x and y"
      ],
      "metadata": {
        "id": "uue0hoVlLPEp"
      }
    },
    {
      "cell_type": "code",
      "source": [
        "import matplotlib.pyplot as plt\n",
        "\n",
        "plt.scatter(X, y)\n",
        "plt.show()"
      ],
      "metadata": {
        "colab": {
          "base_uri": "https://localhost:8080/",
          "height": 276
        },
        "id": "90IzU_IASBto",
        "outputId": "b130eff6-bf25-4298-eaab-6df270a6c33c"
      },
      "execution_count": null,
      "outputs": [
        {
          "output_type": "display_data",
          "data": {
            "text/plain": [
              "<Figure size 432x288 with 1 Axes>"
            ],
            "image/png": "[encoded data removed]"
          },
          "metadata": {
            "needs_background": "light"
          }
        }
      ]
    },
    {
      "cell_type": "markdown",
      "source": [
        "Fit model and plot model"
      ],
      "metadata": {
        "id": "dtlZQNzfLSP7"
      }
    },
    {
      "cell_type": "code",
      "source": [
        "import numpy\n",
        "import matplotlib.pyplot as plt\n",
        "\n",
        "model = numpy.polyfit(train_x, train_y, 4)\n",
        "predict = numpy.poly1d(model)\n",
        "\n",
        "plt.scatter(X, y)\n",
        "plt.plot(X, predict(X), color='red')\n",
        "plt.show()"
      ],
      "metadata": {
        "colab": {
          "base_uri": "https://localhost:8080/",
          "height": 276
        },
        "id": "N_5_Tkt_RirH",
        "outputId": "c7b6fab4-abfa-4eb3-bd58-3f013b3ebcec"
      },
      "execution_count": null,
      "outputs": [
        {
          "output_type": "display_data",
          "data": {
            "text/plain": [
              "<Figure size 432x288 with 1 Axes>"
            ],
            "image/png": "[encoded data removed]"
          },
          "metadata": {
            "needs_background": "light"
          }
        }
      ]
    },
    {
      "cell_type": "markdown",
      "source": [
        "Plot for test"
      ],
      "metadata": {
        "id": "7uQ_fCFJLfT0"
      }
    },
    {
      "cell_type": "code",
      "source": [
        "import numpy\n",
        "import matplotlib.pyplot as plt\n",
        "\n",
        "model = numpy.polyfit(train_x, train_y, 4)\n",
        "predict = numpy.poly1d(model)\n",
        "\n",
        "plt.scatter(test_x, test_y)\n",
        "plt.plot(test_x, predict(test_x), color='red')\n",
        "plt.show()"
      ],
      "metadata": {
        "colab": {
          "base_uri": "https://localhost:8080/",
          "height": 276
        },
        "id": "HHb8KNRcSKlD",
        "outputId": "6d5322d7-aa95-4c92-e532-6bd5ee592447"
      },
      "execution_count": null,
      "outputs": [
        {
          "output_type": "display_data",
          "data": {
            "text/plain": [
              "<Figure size 432x288 with 1 Axes>"
            ],
            "image/png": "[encoded data removed]"
          },
          "metadata": {
            "needs_background": "light"
          }
        }
      ]
    },
    {
      "cell_type": "markdown",
      "source": [
        "Display prediction result in dataframe"
      ],
      "metadata": {
        "id": "ujQ0fWfrLo0p"
      }
    },
    {
      "cell_type": "code",
      "source": [
        "dfT = np.array([test_x, test_y, list(map(round,list(map(predict, test_x))))])\n",
        "df_ = pd.DataFrame(dfT.T, columns=['Tahun Bekerja','Gaji','Prediksi Gaji'])\n",
        "df_.head().style.background_gradient(cmap='pink_r')"
      ],
      "metadata": {
        "colab": {
          "base_uri": "https://localhost:8080/",
          "height": 206
        },
        "id": "2Em3nbC-Sl3V",
        "outputId": "50412929-67cf-49b4-9c13-e0ffc58cab55"
      },
      "execution_count": null,
      "outputs": [
        {
          "output_type": "execute_result",
          "data": {
            "text/plain": [
              "<pandas.io.formats.style.Styler at 0x7f49ee7815b0>"
            ],
            "text/html": [
              "<style type=\"text/css\">\n",
              "#T_527b1_row0_col0, #T_527b1_row0_col1, #T_527b1_row0_col2 {\n",
              "  background-color: #ffffff;\n",
              "  color: #000000;\n",
              "}\n",
              "#T_527b1_row1_col0 {\n",
              "  background-color: #e9e9b5;\n",
              "  color: #000000;\n",
              "}\n",
              "#T_527b1_row1_col1, #T_527b1_row2_col2 {\n",
              "  background-color: #e7e5b2;\n",
              "  color: #000000;\n",
              "}\n",
              "#T_527b1_row1_col2 {\n",
              "  background-color: #f7f7e7;\n",
              "  color: #000000;\n",
              "}\n",
              "#T_527b1_row2_col0 {\n",
              "  background-color: #d0ab93;\n",
              "  color: #000000;\n",
              "}\n",
              "#T_527b1_row2_col1 {\n",
              "  background-color: #ebebbd;\n",
              "  color: #000000;\n",
              "}\n",
              "#T_527b1_row3_col0 {\n",
              "  background-color: #a06767;\n",
              "  color: #f1f1f1;\n",
              "}\n",
              "#T_527b1_row3_col1, #T_527b1_row4_col0, #T_527b1_row4_col2 {\n",
              "  background-color: #1e0000;\n",
              "  color: #f1f1f1;\n",
              "}\n",
              "#T_527b1_row3_col2 {\n",
              "  background-color: #ca988a;\n",
              "  color: #f1f1f1;\n",
              "}\n",
              "#T_527b1_row4_col1 {\n",
              "  background-color: #643e3e;\n",
              "  color: #f1f1f1;\n",
              "}\n",
              "</style>\n",
              "<table id=\"T_527b1_\" class=\"dataframe\">\n",
              "  <thead>\n",
              "    <tr>\n",
              "      <th class=\"blank level0\" >&nbsp;</th>\n",
              "      <th class=\"col_heading level0 col0\" >Tahun Bekerja</th>\n",
              "      <th class=\"col_heading level0 col1\" >Gaji</th>\n",
              "      <th class=\"col_heading level0 col2\" >Prediksi Gaji</th>\n",
              "    </tr>\n",
              "  </thead>\n",
              "  <tbody>\n",
              "    <tr>\n",
              "      <th id=\"T_527b1_level0_row0\" class=\"row_heading level0 row0\" >0</th>\n",
              "      <td id=\"T_527b1_row0_col0\" class=\"data row0 col0\" >15</td>\n",
              "      <td id=\"T_527b1_row0_col1\" class=\"data row0 col1\" >6100000</td>\n",
              "      <td id=\"T_527b1_row0_col2\" class=\"data row0 col2\" >5882418</td>\n",
              "    </tr>\n",
              "    <tr>\n",
              "      <th id=\"T_527b1_level0_row1\" class=\"row_heading level0 row1\" >1</th>\n",
              "      <td id=\"T_527b1_row1_col0\" class=\"data row1 col0\" >16</td>\n",
              "      <td id=\"T_527b1_row1_col1\" class=\"data row1 col1\" >6700000</td>\n",
              "      <td id=\"T_527b1_row1_col2\" class=\"data row1 col2\" >6562537</td>\n",
              "    </tr>\n",
              "    <tr>\n",
              "      <th id=\"T_527b1_level0_row2\" class=\"row_heading level0 row2\" >2</th>\n",
              "      <td id=\"T_527b1_row2_col0\" class=\"data row2 col0\" >17</td>\n",
              "      <td id=\"T_527b1_row2_col1\" class=\"data row2 col1\" >6600000</td>\n",
              "      <td id=\"T_527b1_row2_col2\" class=\"data row2 col2\" >7854720</td>\n",
              "    </tr>\n",
              "    <tr>\n",
              "      <th id=\"T_527b1_level0_row3\" class=\"row_heading level0 row3\" >3</th>\n",
              "      <td id=\"T_527b1_row3_col0\" class=\"data row3 col0\" >18</td>\n",
              "      <td id=\"T_527b1_row3_col1\" class=\"data row3 col1\" >8300000</td>\n",
              "      <td id=\"T_527b1_row3_col2\" class=\"data row3 col2\" >9973405</td>\n",
              "    </tr>\n",
              "    <tr>\n",
              "      <th id=\"T_527b1_level0_row4\" class=\"row_heading level0 row4\" >4</th>\n",
              "      <td id=\"T_527b1_row4_col0\" class=\"data row4 col0\" >19</td>\n",
              "      <td id=\"T_527b1_row4_col1\" class=\"data row4 col1\" >8100000</td>\n",
              "      <td id=\"T_527b1_row4_col2\" class=\"data row4 col2\" >13159787</td>\n",
              "    </tr>\n",
              "  </tbody>\n",
              "</table>\n"
            ]
          },
          "metadata": {},
          "execution_count": 23
        }
      ]
    },
    {
      "cell_type": "markdown",
      "source": [
        "Check score/r2 for train"
      ],
      "metadata": {
        "id": "e_TLij5PLuPC"
      }
    },
    {
      "cell_type": "code",
      "source": [
        "import math as m\n",
        "\n",
        "xy_train = [x * y for (x, y) in zip(train_x, train_y)]\n",
        "xx_train = [x * x for x in train_x]\n",
        "yy_train = [y * y for y in train_y]\n",
        "n_train = len(train_x)\n",
        "\n",
        "f_atas_train = (n_train*sum(xy_train)) - (sum(train_x)*sum(train_y))\n",
        "f_bawah_train =  m.sqrt(  \n",
        "      ( n_train*(sum(xx_train)) - (sum(train_x)**2) ) * \n",
        "      ( n_train*sum(yy_train) - (sum(train_y)**2) )  \n",
        "    )\n",
        "\n",
        "r_train = f_atas_train / f_bawah_train\n",
        "r_train**2"
      ],
      "metadata": {
        "colab": {
          "base_uri": "https://localhost:8080/"
        },
        "id": "0H7xZofRcHb6",
        "outputId": "b7e9357b-727a-40e4-c31e-15c905da1fab"
      },
      "execution_count": null,
      "outputs": [
        {
          "output_type": "execute_result",
          "data": {
            "text/plain": [
              "0.5660367589955994"
            ]
          },
          "metadata": {},
          "execution_count": 12
        }
      ]
    },
    {
      "cell_type": "markdown",
      "source": [
        "Check score/r2 for test"
      ],
      "metadata": {
        "id": "JEWlpdScL2lK"
      }
    },
    {
      "cell_type": "code",
      "source": [
        "xy = [x * y for (x, y) in zip(test_x, test_y)]\n",
        "xx = [x * x for x in test_x]\n",
        "yy = [y * y for y in test_y]\n",
        "n = len(test_x)\n",
        "\n",
        "f_atas = (n*sum(xy)) - (sum(test_x)*sum(test_y))\n",
        "f_bawah =  m.sqrt(  \n",
        "      ( n*(sum(xx)) - (sum(test_x)**2) ) * \n",
        "      ( n*sum(yy) - (sum(test_y)**2) )  \n",
        "    )\n",
        "\n",
        "r = f_atas / f_bawah\n",
        "r**2"
      ],
      "metadata": {
        "colab": {
          "base_uri": "https://localhost:8080/"
        },
        "id": "tX06XWACUq53",
        "outputId": "26cb910f-0d77-4a80-bf21-e3554954782e"
      },
      "execution_count": null,
      "outputs": [
        {
          "output_type": "execute_result",
          "data": {
            "text/plain": [
              "0.8958254210378855"
            ]
          },
          "metadata": {},
          "execution_count": 13
        }
      ]
    },
    {
      "cell_type": "markdown",
      "source": [
        "Try predict 3.5"
      ],
      "metadata": {
        "id": "RKY7Pyv1L5JE"
      }
    },
    {
      "cell_type": "code",
      "source": [
        "test = predict(3.5)\n",
        "round(test)"
      ],
      "metadata": {
        "colab": {
          "base_uri": "https://localhost:8080/"
        },
        "id": "8vyMpvm7V-t0",
        "outputId": "4b137407-2a30-4cfe-e69e-c531819512cf"
      },
      "execution_count": null,
      "outputs": [
        {
          "output_type": "execute_result",
          "data": {
            "text/plain": [
              "4068947"
            ]
          },
          "metadata": {},
          "execution_count": 14
        }
      ]
    },
    {
      "cell_type": "markdown",
      "source": [
        "Display polynomial model"
      ],
      "metadata": {
        "id": "DhMZSeFXL-gq"
      }
    },
    {
      "cell_type": "code",
      "source": [
        "print(list(model))"
      ],
      "metadata": {
        "colab": {
          "base_uri": "https://localhost:8080/"
        },
        "id": "g_LW1UWgbkqD",
        "outputId": "7feea31e-52fc-4959-fa7b-f2b3acfff094"
      },
      "execution_count": null,
      "outputs": [
        {
          "output_type": "stream",
          "name": "stdout",
          "text": [
            "[1114.938982586059, -37846.222405046836, 408988.9277389414, -1336265.6950892936, 5191108.891108993]\n"
          ]
        }
      ]
    },
    {
      "cell_type": "markdown",
      "source": [
        "Create manual prediction function"
      ],
      "metadata": {
        "id": "3oyj7zoGMDNZ"
      }
    },
    {
      "cell_type": "code",
      "source": [
        "def myfunc(x):\n",
        "  return model[0] * (x**4) + model[1] * (x**3) + model[2] * (x**2) + model[3] * x + model[4]"
      ],
      "metadata": {
        "id": "Dfqg_Gvwdq-I"
      },
      "execution_count": null,
      "outputs": []
    },
    {
      "cell_type": "markdown",
      "source": [
        "Try predict using manual prediction function"
      ],
      "metadata": {
        "id": "gTXjMc-qMHqN"
      }
    },
    {
      "cell_type": "code",
      "source": [
        "round(myfunc(3.5))"
      ],
      "metadata": {
        "colab": {
          "base_uri": "https://localhost:8080/"
        },
        "id": "G4ZCWKf4eQKv",
        "outputId": "5b1b0933-d91d-4d7b-992e-9bd039f06fd5"
      },
      "execution_count": null,
      "outputs": [
        {
          "output_type": "execute_result",
          "data": {
            "text/plain": [
              "4068947"
            ]
          },
          "metadata": {},
          "execution_count": 17
        }
      ]
    },
    {
      "cell_type": "markdown",
      "source": [
        "Export model using  pickle"
      ],
      "metadata": {
        "id": "9boCAj5tOvxt"
      }
    },
    {
      "cell_type": "code",
      "source": [
        "import pickle\n",
        "\n",
        "pickle.dump(predict, open(\"poly_predict.pkl\", 'wb'))"
      ],
      "metadata": {
        "id": "XcLyx0OoN8Eh"
      },
      "execution_count": null,
      "outputs": []
    },
    {
      "cell_type": "markdown",
      "source": [
        "Read model from pickle file"
      ],
      "metadata": {
        "id": "uJ9YEhG4O6cx"
      }
    },
    {
      "cell_type": "code",
      "source": [
        "new_predict = pickle.load(open(\"poly_predict.pkl\", 'rb'))\n",
        "round(new_predict(3.5))"
      ],
      "metadata": {
        "colab": {
          "base_uri": "https://localhost:8080/"
        },
        "id": "xzZsBqAcOQF8",
        "outputId": "2e6ed09d-6128-499d-8980-d9b8f075a135"
      },
      "execution_count": null,
      "outputs": [
        {
          "output_type": "execute_result",
          "data": {
            "text/plain": [
              "4068947"
            ]
          },
          "metadata": {},
          "execution_count": 20
        }
      ]
    }
  ]
}